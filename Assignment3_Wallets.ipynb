{
 "cells": [
  {
   "cell_type": "markdown",
   "metadata": {},
   "source": [
    "\n",
    "### Wallets\n",
    "\n",
    "You are requested to request a user of your application to provide 5 numbers representing the value in cash stored in 5 different wallets.\n",
    "Your program should store these five values in a list.\n",
    "When finished, your application should provide the following information:\n",
    "* \"The fattest wallet has $ value in it.\"\n",
    "* \"The skinniest wallet has $ value in it.\"\n",
    "* \"All together, these wallets have $ value in them.\"\n",
    "* \"All together, the total value of these wallets is worth $ dimes\"\n",
    "\n",
    "Please try to think about different functions to complete your work"
   ]
  },
  {
   "cell_type": "markdown",
   "metadata": {},
   "source": []
  },
  {
   "cell_type": "markdown",
   "metadata": {},
   "source": [
    "This function receives 5 number from the user"
   ]
  },
  {
   "cell_type": "code",
   "execution_count": 1,
   "metadata": {},
   "outputs": [],
   "source": [
    "def getWallets():\n",
    "    wallets = []\n",
    "    for i in range(5):\n",
    "        wallets.append(int(input('Enter your {}(st/th) value:'.format(i+1))))\n",
    "    return wallets"
   ]
  },
  {
   "cell_type": "markdown",
   "metadata": {},
   "source": [
    "This function prints information (max, min, sum) about the wallet by using max, min and sum function"
   ]
  },
  {
   "cell_type": "code",
   "execution_count": 2,
   "metadata": {},
   "outputs": [],
   "source": [
    "def printInformation(wallets):\n",
    "    print()\n",
    "    print('The fattest wallet has ${} value in it.'.format(max(wallets)))\n",
    "    print('The skinniest wallet has ${} value in it.'.format(min(wallets)))\n",
    "    print('All together, these wallets have ${} value in them.'.format(sum(wallets)))\n",
    "    print('All together, the total value of these wallets is worth ${} dimes.'.format(sum(wallets)*10))"
   ]
  },
  {
   "cell_type": "markdown",
   "metadata": {},
   "source": [
    "This is the definition of main function which calls other defined functions"
   ]
  },
  {
   "cell_type": "code",
   "execution_count": 3,
   "metadata": {},
   "outputs": [],
   "source": [
    "def main():\n",
    "    print('Welcome to wallets app.')\n",
    "    print('-----------------------')\n",
    "    wallets = getWallets()\n",
    "    print(wallets)\n",
    "    printInformation(wallets)"
   ]
  },
  {
   "cell_type": "markdown",
   "metadata": {},
   "source": [
    "Here we call main function"
   ]
  },
  {
   "cell_type": "code",
   "execution_count": 4,
   "metadata": {
    "tags": []
   },
   "outputs": [
    {
     "name": "stdout",
     "output_type": "stream",
     "text": [
      "Welcome to wallets app.\n",
      "-----------------------\n",
      "Enter your 1(st/th) value:6\n",
      "Enter your 2(st/th) value:8\n",
      "Enter your 3(st/th) value:9\n",
      "Enter your 4(st/th) value:2\n",
      "Enter your 5(st/th) value:3\n",
      "[6, 8, 9, 2, 3]\n",
      "\n",
      "The fattest wallet has $9 value in it.\n",
      "The skinniest wallet has $2 value in it.\n",
      "All together, these wallets have $28 value in them.\n",
      "All together, the total value of these wallets is worth $280 dimes.\n"
     ]
    }
   ],
   "source": [
    "main()"
   ]
  },
  {
   "cell_type": "code",
   "execution_count": null,
   "metadata": {},
   "outputs": [],
   "source": []
  }
 ],
 "metadata": {
  "kernelspec": {
   "display_name": "Python 3",
   "language": "python",
   "name": "python3"
  },
  "language_info": {
   "codemirror_mode": {
    "name": "ipython",
    "version": 3
   },
   "file_extension": ".py",
   "mimetype": "text/x-python",
   "name": "python",
   "nbconvert_exporter": "python",
   "pygments_lexer": "ipython3",
   "version": "3.7.5"
  }
 },
 "nbformat": 4,
 "nbformat_minor": 2
}

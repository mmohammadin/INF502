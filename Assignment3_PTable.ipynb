{
 "cells": [
  {
   "cell_type": "markdown",
   "metadata": {},
   "source": [
    "## Periodic Table \n",
    "\n",
    "The Periodic Table of the Elements was developed to organize information about the elements that make up the Universe.\n",
    "Write a terminal application that lets you enter information about each element in the periodic table.\n",
    "Make sure you include the following information:\n",
    "* symbol, name, atomic number, row, and column\n",
    "\n",
    "Provide a menu of options for users (inputing numbers) to:\n",
    "1. See all the information that is stored about any element, by entering that element's symbol.\n",
    "2. Choose a property, and see that property for each element in the table.\n",
    "3. Enter a new element\n",
    "4. Change the attributes of an element, by entering the element's symbol.\n",
    "5. Exit the program\n",
    "\n",
    "**You can provide a pre-populated dictionary as part of your program, avoiding the need of typing every time**"
   ]
  },
  {
   "cell_type": "code",
   "execution_count": 1,
   "metadata": {},
   "outputs": [],
   "source": [
    "periodic_table = [\n",
    "    {\n",
    "        \"symbol\": \"H\",\n",
    "        \"name\": \"Hydrogen\",\n",
    "        \"atomic\": 1,\n",
    "        \"row\": 1,\n",
    "        \"col\": 1\n",
    "    },\n",
    "    {\n",
    "        \"symbol\": \"He\",\n",
    "        \"name\": \"Helium\",\n",
    "        \"atomic\": 2,\n",
    "        \"row\": 1,\n",
    "        \"col\": 18\n",
    "    },\n",
    "    {\n",
    "        \"symbol\": \"Li\",\n",
    "        \"name\": \"Lithium\",\n",
    "        \"atomic\": 3,\n",
    "        \"row\": 2,\n",
    "        \"col\": 1\n",
    "    },\n",
    "    {\n",
    "        \"symbol\": \"B\",\n",
    "        \"name\": \"Boron\",\n",
    "        \"atomic\": 5,\n",
    "        \"row\": 2,\n",
    "        \"col\": 13\n",
    "    },\n",
    "    {\n",
    "        \"symbol\": \"C\",\n",
    "        \"name\": \"Carbon\",\n",
    "        \"atomic\": 6,\n",
    "        \"row\": 2,\n",
    "        \"col\": 14\n",
    "    },\n",
    "]"
   ]
  },
  {
   "cell_type": "markdown",
   "metadata": {},
   "source": [
    "This funtion receives a symbol and show all the properties of that symol"
   ]
  },
  {
   "cell_type": "code",
   "execution_count": 2,
   "metadata": {
    "tags": []
   },
   "outputs": [],
   "source": [
    "def printInfoBySymbol(symbol):\n",
    "    for i in range(len(periodic_table)):\n",
    "        if periodic_table[i]['symbol'] == symbol:\n",
    "            print(periodic_table[i])\n",
    "            break"
   ]
  },
  {
   "cell_type": "markdown",
   "metadata": {},
   "source": [
    "The following function receives a property and shows the property in a table with the symbo in the first column and the property in the second symbol"
   ]
  },
  {
   "cell_type": "code",
   "execution_count": 3,
   "metadata": {},
   "outputs": [],
   "source": [
    "def printPropertyWithSymbol(prop):\n",
    "    temp = 'symbol\\t|\\t' + prop\n",
    "    print(temp)\n",
    "    print('--' * len(temp))\n",
    "    for i in range(len(periodic_table)):\n",
    "        if prop in periodic_table[i]:\n",
    "            print(periodic_table[i]['symbol'], '\\t|\\t', periodic_table[i][prop])"
   ]
  },
  {
   "cell_type": "markdown",
   "metadata": {},
   "source": [
    "This function receivs a new symbol (propertis) and add it to the periodic table"
   ]
  },
  {
   "cell_type": "code",
   "execution_count": 4,
   "metadata": {},
   "outputs": [],
   "source": [
    "def addNewElement():\n",
    "    symbol = input('Enter symbol: ')\n",
    "    name = input('Enter name: ')\n",
    "    atomic = int(input('Enter atomic: '))\n",
    "    row = int(input('Enter row: '))\n",
    "    col = int(input('Enter col: '))\n",
    "\n",
    "    for i in range(len(periodic_table)):\n",
    "        if periodic_table[i]['symbol'] == symbol:\n",
    "            print('{} symbol is already exist.'.format(symbol))\n",
    "            return\n",
    "\n",
    "    periodic_table.append({\n",
    "        \"symbol\": symbol,\n",
    "        \"name\": name,\n",
    "        \"atomic\": atomic,\n",
    "        \"row\": row,\n",
    "        \"col\": col\n",
    "    })\n",
    "\n",
    "    print('New element was added successfully.')"
   ]
  },
  {
   "cell_type": "markdown",
   "metadata": {},
   "source": [
    "This function receives a symbol and allows us to change the properties of that symbol"
   ]
  },
  {
   "cell_type": "code",
   "execution_count": 5,
   "metadata": {},
   "outputs": [],
   "source": [
    "def changeElementPropsBySymbol(symbol):\n",
    "    index = None\n",
    "    for i in range(len(periodic_table)):\n",
    "        if periodic_table[i]['symbol'] == symbol:\n",
    "            index = i\n",
    "            break\n",
    "    \n",
    "    def getAndChangeProperty(prop):\n",
    "        value = input('Enter {}, default is old({}): '.format(prop, periodic_table[index][prop]))\n",
    "        if not value == '':\n",
    "            periodic_table[index][prop] = value\n",
    "\n",
    "    if not index == None:\n",
    "        getAndChangeProperty('name')\n",
    "        getAndChangeProperty('atomic')\n",
    "        getAndChangeProperty('row')\n",
    "        getAndChangeProperty('col')\n",
    "    else:\n",
    "        print('{} symbol not found.'.format(symbol))\n"
   ]
  },
  {
   "cell_type": "markdown",
   "metadata": {},
   "source": [
    "This function is the main function "
   ]
  },
  {
   "cell_type": "code",
   "execution_count": 6,
   "metadata": {},
   "outputs": [],
   "source": [
    "def main():\n",
    "    print('Welcome to periodical table app.')\n",
    "    print('-------------------------------')\n",
    "    print('1. See all the information that is stored about any element, by entering that element\\'s symbol.')\n",
    "    print('2. Choose a property, and see that property for each element in the table.')\n",
    "    print('3. Enter a new element')\n",
    "    print('4. Change the attributes of an element, by entering the element\\'s symbol.')\n",
    "    print('5. Exit the program')\n",
    "    print()\n",
    "\n",
    "    invalue = input('Choose your action? ')\n",
    "    print()\n",
    "\n",
    "    if invalue == '1':\n",
    "        symbol = input('Enter symbol: ')\n",
    "        printInfoBySymbol(symbol)\n",
    "    elif invalue == '2':\n",
    "        prop = input('Enter property: ')\n",
    "        printPropertyWithSymbol(prop)\n",
    "    elif invalue == '3':\n",
    "        addNewElement()\n",
    "    elif invalue == '4':\n",
    "        symbol = input('Enter symbol: ')\n",
    "        changeElementPropsBySymbol(symbol)\n",
    "    else:\n",
    "        return False\n",
    "\n",
    "    return True"
   ]
  },
  {
   "cell_type": "code",
   "execution_count": 7,
   "metadata": {
    "tags": []
   },
   "outputs": [
    {
     "name": "stdout",
     "output_type": "stream",
     "text": [
      "\n",
      "Welcome to periodical table app.\n",
      "-------------------------------\n",
      "1. See all the information that is stored about any element, by entering that element's symbol.\n",
      "2. Choose a property, and see that property for each element in the table.\n",
      "3. Enter a new element\n",
      "4. Change the attributes of an element, by entering the element's symbol.\n",
      "5. Exit the program\n",
      "\n",
      "Choose your action? 1\n",
      "\n",
      "Enter symbol: H\n",
      "{'symbol': 'H', 'name': 'Hydrogen', 'atomic': 1, 'row': 1, 'col': 1}\n",
      "\n",
      "Welcome to periodical table app.\n",
      "-------------------------------\n",
      "1. See all the information that is stored about any element, by entering that element's symbol.\n",
      "2. Choose a property, and see that property for each element in the table.\n",
      "3. Enter a new element\n",
      "4. Change the attributes of an element, by entering the element's symbol.\n",
      "5. Exit the program\n",
      "\n",
      "Choose your action? 2\n",
      "\n",
      "Enter property: name\n",
      "symbol\t|\tname\n",
      "--------------------------\n",
      "H \t|\t Hydrogen\n",
      "He \t|\t Helium\n",
      "Li \t|\t Lithium\n",
      "B \t|\t Boron\n",
      "C \t|\t Carbon\n",
      "\n",
      "Welcome to periodical table app.\n",
      "-------------------------------\n",
      "1. See all the information that is stored about any element, by entering that element's symbol.\n",
      "2. Choose a property, and see that property for each element in the table.\n",
      "3. Enter a new element\n",
      "4. Change the attributes of an element, by entering the element's symbol.\n",
      "5. Exit the program\n",
      "\n",
      "Choose your action? 3\n",
      "\n",
      "Enter symbol: Na\n",
      "Enter name: Naminum\n",
      "Enter atomic: 11\n",
      "Enter row: 2\n",
      "Enter col: 3\n",
      "New element was added successfully.\n",
      "\n",
      "Welcome to periodical table app.\n",
      "-------------------------------\n",
      "1. See all the information that is stored about any element, by entering that element's symbol.\n",
      "2. Choose a property, and see that property for each element in the table.\n",
      "3. Enter a new element\n",
      "4. Change the attributes of an element, by entering the element's symbol.\n",
      "5. Exit the program\n",
      "\n",
      "Choose your action? 4\n",
      "\n",
      "Enter symbol: Na\n",
      "Enter name, default is old(Naminum): Naminum2\n",
      "Enter atomic, default is old(11): 111\n",
      "Enter row, default is old(2): 22\n",
      "Enter col, default is old(3): 33\n",
      "\n",
      "Welcome to periodical table app.\n",
      "-------------------------------\n",
      "1. See all the information that is stored about any element, by entering that element's symbol.\n",
      "2. Choose a property, and see that property for each element in the table.\n",
      "3. Enter a new element\n",
      "4. Change the attributes of an element, by entering the element's symbol.\n",
      "5. Exit the program\n",
      "\n",
      "Choose your action? 1\n",
      "\n",
      "Enter symbol: Na\n",
      "{'symbol': 'Na', 'name': 'Naminum2', 'atomic': '111', 'row': '22', 'col': '33'}\n",
      "\n",
      "Welcome to periodical table app.\n",
      "-------------------------------\n",
      "1. See all the information that is stored about any element, by entering that element's symbol.\n",
      "2. Choose a property, and see that property for each element in the table.\n",
      "3. Enter a new element\n",
      "4. Change the attributes of an element, by entering the element's symbol.\n",
      "5. Exit the program\n",
      "\n",
      "Choose your action? 5\n",
      "\n"
     ]
    }
   ],
   "source": [
    "while True:\n",
    "    print()\n",
    "    if not main():\n",
    "        break"
   ]
  },
  {
   "cell_type": "code",
   "execution_count": null,
   "metadata": {},
   "outputs": [],
   "source": []
  }
 ],
 "metadata": {
  "kernelspec": {
   "display_name": "Python 3",
   "language": "python",
   "name": "python3"
  },
  "language_info": {
   "codemirror_mode": {
    "name": "ipython",
    "version": 3
   },
   "file_extension": ".py",
   "mimetype": "text/x-python",
   "name": "python",
   "nbconvert_exporter": "python",
   "pygments_lexer": "ipython3",
   "version": "3.7.5"
  }
 },
 "nbformat": 4,
 "nbformat_minor": 2
}
